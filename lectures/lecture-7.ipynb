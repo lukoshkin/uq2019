{
 "cells": [
  {
   "cell_type": "markdown",
   "metadata": {
    "slideshow": {
     "slide_type": "slide"
    }
   },
   "source": [
    "# Lecture 7: Global and local sensitivity analysis, Sobol' indices, PC-based Sobol' indices"
   ]
  },
  {
   "cell_type": "markdown",
   "metadata": {
    "slideshow": {
     "slide_type": "slide"
    }
   },
   "source": [
    "# Sobol' indices. Variance-based sensitivity analysis\n",
    "\n",
    "- Sensitivity analysis examines how strongly one or another input parameter effects the output.\n",
    "- We have a function of (sufficiently large) number of input parameters $y=f(x_1,\\,x_2,\\,\\ldots,\\,x_d)$.\n",
    "In the spirit of UQ, the input parameters are random variables.\n",
    "Which of them contribute the most to the variance of the output?\n",
    "- This information can be useful in\n",
    "    * Uncertainty reduction, through the identification of model inputs that cause significant uncertainty in the output and should therefore be the focus of attention in order to increase robustness.\n",
    "    * Model simplification – fixing model inputs that have no effect on the output, or identifying and removing redundant parts of the model structure.\n",
    "    * Increased understanding of the relationships between input and output variables in a system or model.\n",
    "    * And so on"
   ]
  },
  {
   "cell_type": "markdown",
   "metadata": {
    "slideshow": {
     "slide_type": "slide"
    }
   },
   "source": [
    "- *local methods*\n",
    "involve taking the partial derivative of the output $y$ with respect to an input factor $x_i$. This methods work only in one point and in the case, when derivatives exist;\n",
    "- *global methods* \n",
    "allow to determine an approximate range of changes in the output parameter $y$ when the input parameter $x_i$ (or several parameters) changes in a given range.\n",
    "  "
   ]
  },
  {
   "cell_type": "markdown",
   "metadata": {
    "slideshow": {
     "slide_type": "slide"
    }
   },
   "source": [
    "## Decomposition into summands of different dimensions \n",
    "Denote $\\mathcal K=[0,1]^d$ and let the function $f$ be defined on this set.\n",
    "The decompose\n",
    "$$\n",
    "f(x_1,\\,x_2,\\,\\ldots,\\,x_d)=\n",
    "f_0+\\sum_{i=1}^df_i(x_i)+\\sum_{1\\leq i<j\\leq d}f_{ij}(x_i,\\,x_j)+\n",
    "\\cdots+f_{123\\ldots d}(x_1,\\,x_2,\\,\\ldots,\\,x_d) \\qquad (*)\n",
    "$$\n",
    "($2^d-1$ terms total)\n",
    "is called\n",
    "*decomposition into summands of different dimensions*, if\n",
    "$$\n",
    "f_0=\\int_{\\mathcal K}f(x)\\,dx,\n",
    "$$\n",
    "and \n",
    "the integral of any other term on any \"self\" index equals zero\n",
    "$$\n",
    "\\int_0^1f_{i_1\\ldots i_k\\ldots i_s}(x_{i_1},\\,\\ldots,\\,x_{i_k},\\,\\ldots,\\,x_{i_s})\\,dx_{i_k}=0.\n",
    "$$\n"
   ]
  },
  {
   "cell_type": "markdown",
   "metadata": {
    "slideshow": {
     "slide_type": "slide"
    }
   },
   "source": [
    "Consequently, all the other terms are orthogonal, which means that if\n",
    "$(i_1,\\,\\ldots,\\, i_s)\\neq (j_1,\\,\\ldots,\\, j_l)$ then\n",
    "$$\n",
    "\\int_{\\mathcal K}\n",
    "f_{i_1,\\,\\ldots,\\, i_s}\\,\n",
    "f_{j_1,\\,\\ldots,\\, j_l}\\,dx=0,\n",
    "$$\n",
    "because\n",
    "there is at least one index that belongs only to one set, the integral over which  gives zero.\n",
    "\n",
    "**Theorem**\n",
    "*\n",
    "If the function $f$ is integrable in the cube $\\mathcal K$,\n",
    "then decomposition into summands of different dimensions exists and is unique.\n",
    "*"
   ]
  },
  {
   "cell_type": "markdown",
   "metadata": {
    "slideshow": {
     "slide_type": "slide"
    }
   },
   "source": [
    "Indeed, we can build them explicitly.\n",
    "Denote by $dx/dx_i$ the product of all members, except the $i^{\\text{th}}$.\n",
    "Let\n",
    "$$\n",
    "g_i(x_i)=\\int_0^1\\!\\!\\cdots\\!\\int_0^1f(x)\\,dx/dx_i.\n",
    "$$\n",
    "Integrating the decomposition $(*)$  over all variables except $x_i$,\n",
    "we get\n",
    "$$\n",
    "g_i(x_i)=f_0+f_i(x_i),\n",
    "$$\n",
    "and all single-index functions are found.\n",
    "\n",
    "Further, let\n",
    "$$\n",
    "g_{ij}(x_i,\\,x_j)=\n",
    "\\int_0^1\\!\\!\\cdots\\!\\int_0^1f(x)\\,dx/dx_idx_j\n",
    "$$\n",
    "Integrating $(*)$  over all variables except $x_i$ and $x_j$\n",
    "we can find all two-index terms\n",
    "$$\n",
    "g_{ij}(x_i,\\,x_j)=\n",
    "f_0+f_i(x_i)+f_j(x_j)+f_{ij}(x_i,\\,x_j),\n",
    "$$\n",
    "ans so on."
   ]
  },
  {
   "cell_type": "markdown",
   "metadata": {
    "slideshow": {
     "slide_type": "slide"
    }
   },
   "source": [
    "If the input vector has a multidimensional uniform distribution,\n",
    "then the functions $f_\\cdots$ can be expressed in terms of  conditional mathematical expectation\n",
    "$$\n",
    "f_0=\\mathbb E[y]$$\n",
    "$$\n",
    "f_i(x_i)=\\mathbb E[y\\mid x_i]-f_0,\n",
    "$$\n",
    "$$\n",
    "f_{ij}(x_i,x_j)=\\mathbb E[y\\mid x_i,x_j]-f_i-f_j-f_0,\n",
    "$$\n",
    "and so on.\n",
    "\n",
    "The single-index functions $f_i$  give the information about the effect of varying only $x_i$.\n",
    "The two-index functions $f_{ij}$ give the information of \n",
    "the effect of varying $x_i$ and $x_j$ simultaneously, additional to the effect of their individual variations.\n"
   ]
  },
  {
   "cell_type": "markdown",
   "metadata": {
    "slideshow": {
     "slide_type": "slide"
    }
   },
   "source": [
    "## Sensitivity analysis\n",
    "\n",
    "Let $f\\in L_2$, then all terms of the decomposition are also from $L_2$.\n",
    "Denote\n",
    "$$\n",
    "D=\\int_{\\mathcal K}f^2(x)\\,dx-f_0^2,\n",
    "$$\n",
    "$$\n",
    "D_{i_1\\ldots i_s}=\n",
    "\\int_0^1\\!\\!\\cdots\\!\\int_0^1\n",
    "f^2_{i_1\\ldots i_s}(x_1,\\,\\ldots,\\, x_s)\\,dx_{i_1}\\!\\!\\cdots dx_{i_s}.\n",
    "$$\n",
    "We can verify by direct integration, that\n",
    "$$\n",
    "D=\n",
    "\\sum_{i=1}^nD_i+\\sum_{1\\leq i<j\\leq d}D_{ij}+\n",
    "\\cdots+D_{123\\ldots d}.\n",
    "$$\n",
    "\n",
    "If the input vector has a multidimensional uniform distribution,\n",
    "then the quantities have the meaning of variance. Variances $D_\\cdots$ are called the *partial variance*."
   ]
  },
  {
   "cell_type": "markdown",
   "metadata": {
    "slideshow": {
     "slide_type": "slide"
    }
   },
   "source": [
    "We can use values\n",
    "$$\n",
    "S_{i_1\\cdots i_s}=D_{i_1\\cdots i_s}\\big/D\n",
    "$$\n",
    "to measure the sensitivity.\n",
    "These quantities are called the *Sobol' indices*.\n",
    "\n",
    "The single-index quantities $S_i$ are called\n",
    "*first-order* or *main effect sensitivity indices*.\n",
    "\n",
    "Obviously, the corresponding index is zero only if the corresponding function is identically equals to zero."
   ]
  },
  {
   "cell_type": "markdown",
   "metadata": {
    "slideshow": {
     "slide_type": "slide"
    }
   },
   "source": [
    "## Analytical examples\n",
    "\n",
    "(see the papers [[1]](http://www.mathnet.ru/php/archive.phtml?wshow=paper&jrnid=mm&paperid=2320&option_lang=eng)\n",
    "and [[2]](http://www.mathnet.ru/php/archive.phtml?wshow=paper&jrnid=mm&paperid=1810&option_lang=eng) for details)\n",
    "\n",
    "### Linear function\n",
    "Let the function $f$ be linear\n",
    "$$\n",
    "f=a_0+a_1x_1+a_2x_2+\\cdots+a_nx_d.\n",
    "$$\n",
    "Then the decomposition is\n",
    "$$\n",
    "f=f_0+\\sum_{i=1}^da_i(x_i-1/2).\n",
    "$$\n",
    "Single-indexes are\n",
    "$$\n",
    "S_i=\\frac{a_i^2}{a_1^2+a_2^2+\\cdots+a_d^2},\n",
    "$$\n",
    "and all other indices are zero."
   ]
  },
  {
   "cell_type": "markdown",
   "metadata": {
    "slideshow": {
     "slide_type": "slide"
    }
   },
   "source": [
    "### Symmetric polynomial based on linear monomials\n",
    "Let the function $f$ be\n",
    "$$\n",
    "f=\\frac{(2x_1+1)(2x_2+1)\\cdots(2x_d+1)}{2^d}.\n",
    "$$\n",
    "Then, \n",
    "the decomposition into summands of different dimensions is\n",
    "$$\n",
    "f_0=1,\\qquad f_{i_1\\cdots i_s}=\\frac{(2x_{i_1}-1)(2x_{i_2}-1)\\cdots(2x_{i_s}-1)}{2^s},\n",
    "$$\n",
    "and\n",
    "$$\n",
    "D_{i_1\\cdots i_s}=\\frac1{12^s},\\qquad D=\\left(\\frac{13}{12}\\right)^d-1.\n",
    "$$"
   ]
  },
  {
   "cell_type": "markdown",
   "metadata": {
    "slideshow": {
     "slide_type": "slide"
    }
   },
   "source": [
    "### Symmetric polynomial based on quadratic monomials\n",
    "\n",
    "Let the function $f$ be\n",
    "$$\\def\\mon#1{(3x^2_#1+1)}\n",
    "f=\\frac{\\mon1\\mon2\\cdots\\mon d}{2^d}.\n",
    "$$\n",
    "Then, \n",
    "the decomposition into summands of different dimensions is\n",
    "$$\\def\\mon#1{(3x^2_{i_#1}-1)}\n",
    "f_0=1,\\qquad f_{i_1\\cdots i_s}=\\frac{\\mon1\\mon2\\cdots\\mon s}{2^s},\n",
    "$$\n",
    "and\n",
    "$$\n",
    "D_{i_1\\cdots i_s}=\\frac1{5^s},\\qquad D=\\left(\\frac65\\right)^d-1.\n",
    "$$"
   ]
  },
  {
   "cell_type": "markdown",
   "metadata": {
    "slideshow": {
     "slide_type": "slide"
    }
   },
   "source": [
    "### Sobol' function\n",
    "Let\n",
    "$$\n",
    "f=\\prod_{i=1}^d\\phi_i(x),\\qquad \\phi_i(x)=\\frac{\\left|4x-2\\right|+a_i}{1+a_i},\n",
    "$$\n",
    "where parameters $a_i\\geq0$ determines the the influence of the corresponding variable:\n",
    "$$\n",
    "1-\\frac1{1+a_1}\\leq\\phi_i(x)\\leq1+\\frac1{1+a_1}.\n",
    "$$\n",
    "The plot of this function with different values of $a_i$ is shown below."
   ]
  },
  {
   "cell_type": "code",
   "execution_count": 1,
   "metadata": {},
   "outputs": [],
   "source": [
    "%matplotlib inline\n",
    "import numpy as np\n",
    "from matplotlib import pyplot as plt"
   ]
  },
  {
   "cell_type": "code",
   "execution_count": 2,
   "metadata": {
    "slideshow": {
     "slide_type": "slide"
    }
   },
   "outputs": [
    {
     "data": {
      "image/png": "[encoded data removed]",
      "text/plain": [
       "<Figure size 720x720 with 1 Axes>"
      ]
     },
     "metadata": {
      "needs_background": "light"
     },
     "output_type": "display_data"
    }
   ],
   "source": [
    "def phi_i(x, a):\n",
    "    return (np.abs(4*x-2)+a)/(1+a)\n",
    "\n",
    "\n",
    "plt.figure(figsize=(10, 10))\n",
    "x = np.linspace(0, 1, 2**10)\n",
    "for a in [0, 2, 9]:\n",
    "    plt.plot(x, phi_i(x, a), label='a={}'.format(a))\n",
    "plt.xlabel('$x$')\n",
    "plt.ylabel(r'$\\phi(x)$')\n",
    "plt.legend();"
   ]
  },
  {
   "cell_type": "markdown",
   "metadata": {
    "slideshow": {
     "slide_type": "slide"
    }
   },
   "source": [
    "To calculate the indices, note that for any $a$,\n",
    "$$\n",
    "\\int_0^1\\phi_i(x)\\,dx=1,\n",
    "$$\n",
    "so\n",
    "$$\n",
    "f=\\prod_{i=1}^d\\bigl(1+(\\phi_i(x)-1)\\bigr).\n",
    "$$\n",
    "Opening the brackets in the last product, we obtain\n",
    "$$\n",
    "f_0=1,\\qquad f_{i_1\\cdots i_s}=(\\phi_{i_1}(x)-1)\\cdots(\\phi_{i_s}(x)-1),\n",
    "$$\n",
    "and we immediately get $D$'s\n",
    "$$\n",
    "D_{i_1\\cdots i_s}=D_{i_1}\\cdots D_{i_s},\n",
    "$$\n",
    "with\n",
    "$$\n",
    "D_i=\\int_0^1\\left(\\phi_i(x)-1\\right)^2dx=\\frac1{3(1+a_i)^2}.\n",
    "$$"
   ]
  },
  {
   "cell_type": "markdown",
   "metadata": {
    "slideshow": {
     "slide_type": "slide"
    }
   },
   "source": [
    "## Calculating Sobol' indices\n",
    "\n",
    "It is not always possible to obtain indices analytically, in this case numerical methods help us.\n",
    "\n",
    "Suppose we split the whole set of indices into two groups and are only interested in sensitivity with respect to one of the groups.\n",
    "Namely, let $x=(y,z)$, $y\\in\\mathbb R^s$, $z\\in\\mathbb R^{d-s}$. We get a decomposition\n",
    "$$\n",
    "f(x)=f_0+f_1(y)+f_2(z)+f_{12}(y,z),\n",
    "$$\n",
    "where\n",
    "$$\n",
    "f_1(y)=\\int_0^1\\cdots \\int_0^1f(x)\\,dz\n",
    "\\qquad\n",
    "f_2(z)=\\int_0^1\\cdots \\int_0^1f(x)\\,dy,\n",
    "$$\n",
    "$$\n",
    "f_{12}(y,z)=f(x)-f_0-f_1(y)-f_2(z).\n",
    "$$\n",
    "\n",
    "The corresponding variances\n",
    "$$\n",
    "D=\\int_{\\mathcal K}f^2(x)\\,dx-f_0^2,\n",
    "$$\n",
    "$$\n",
    "D_1=\n",
    "\\int_0^1\\cdots\\int_0^1f_1^2(y)\\,dy=\n",
    "\\int_0^1\\cdots\\int_0^1\\biggl(\\int_0^1\\cdots\\int_0^1f(x)\\,dz\\biggr)^2\\,dy-f^2_0=\n",
    "$$\n",
    "$$\n",
    "\\int_0^1\\cdots\\int_0^1f(y,z)f(y,v)\\,dz\\,dv\\,dy-f_0^2.\n",
    "$$\n",
    "\n",
    "The last integrals are multidimensional and can calculated with use of Monte-Carlo method."
   ]
  },
  {
   "cell_type": "markdown",
   "metadata": {
    "slideshow": {
     "slide_type": "slide"
    }
   },
   "source": [
    "## PC-based Sobol' indeces\n",
    "\n",
    "If we somehow obtained an approximate expansion in polynomials of the function $f$,\n",
    "then we can immediately get the values of main effect sensitivity indices.\n",
    "\n",
    "Consider an expansion with respect to an orthogonal multivariate basis $\\{P_i\\}$\n",
    "$$\n",
    "f(x)\\approx f_N(x)=\\sum_{\\alpha\\in\\mathcal L}c_\\alpha P_\\alpha(x),\n",
    "$$\n",
    "where any $\\alpha\\in\\mathcal L$, $\\alpha\\subset\\mathbb N_0^d$ is \n",
    "a set of indices determined by some truncation scheme, for example, hyperbolic.\n",
    "\n",
    "\n",
    "Then for $f_N$ we have\n",
    "$$\n",
    "S_i=\\frac\n",
    "{\\sum_{\\alpha\\in\\mathcal L_i}c^2_\\alpha\\, \\mathbb E[P^2_\\alpha(x)]}\n",
    "{\\sum_{\\alpha\\in\\mathcal L_*}c^2_\\alpha\\, \\mathbb E[P^2_\\alpha(x)]},\n",
    "$$\n",
    "where $\\mathcal L_*=\\mathcal L\\setminus\\{\\mathbf 0\\}$,\n",
    "and $\\mathcal L_i\\subset\\mathcal L$ are set of multiindeces with only one non-zero element in the $\\text{i}^{th}$ position\n",
    "$$\n",
    "\\{0,0,\\ldots,0,a_i,0,\\ldots,0\\}\\in\\mathcal L_i,\n",
    "\\qquad a_i>0.\n",
    "$$"
   ]
  },
  {
   "cell_type": "markdown",
   "metadata": {
    "slideshow": {
     "slide_type": "slide"
    }
   },
   "source": [
    "In the case, when polynomials are not only orthogonal, but also normalized,\n",
    "$$\n",
    "\\mathbb E[P^2_\\alpha(x)]=1,\n",
    "$$\n",
    "the formula becomes very simple\n",
    "$$\n",
    "S_i=\\frac\n",
    "{\\sum_{\\alpha\\in\\mathcal L_i}c^2_\\alpha}\n",
    "{\\sum_{\\alpha\\in\\mathcal L_*}c^2_\\alpha}\n",
    "$$\n",
    "\n",
    "Expanding this process, we can determine two-index coefficients\n",
    "$$\n",
    "S_{ij}=\\frac\n",
    "{\\sum_{\\alpha\\in\\mathcal L_{ij}}c^2_\\alpha}\n",
    "{\\sum_{\\alpha\\in\\mathcal L_*}c^2_\\alpha}\n",
    "$$\n",
    "with\n",
    "$$\n",
    "\\{0,0,\\ldots,0,a_i,0,\\ldots,0,a_j,0,\\ldots,0\\}\\in\\mathcal L_{ij},\n",
    "\\qquad a_i>0, \\;\\; a_j>0.\n",
    "$$\n",
    "\n",
    "And so on.\n",
    "\n",
    "Note, that we can use this formulas in the case not only uniform distribution."
   ]
  },
  {
   "cell_type": "markdown",
   "metadata": {
    "slideshow": {
     "slide_type": "slide"
    }
   },
   "source": [
    "## Numerical examples\n",
    "\n",
    "Now we will show some examples of calculating the Sobol' indices and comparing them with the exact values in cases where the latter are known.\n",
    "\n",
    "We take LHS points as node points, and we take twice as many points as the number of basis functions,\n",
    "thus, we solve the problem by least squares with a margin.\n",
    "\n",
    "Note that even in this case, the result can vary from run to run\n",
    "due to the stochastic nature of the LHS generating algorithm.\n",
    "For the same reason, for symmetric functions symmetry of indices may not be observed."
   ]
  },
  {
   "cell_type": "markdown",
   "metadata": {
    "slideshow": {
     "slide_type": "slide"
    }
   },
   "source": [
    "We begin with a function consisting of products of linear monomials\n",
    "$$\n",
    "f=\\frac{(2x_1+1)(2x_2+1)\\cdots(2x_d+1)}{2^d}.\n",
    "$$\n",
    "for which the expansion in polynomials is exact starting from the corresponding number of basis functions.\n",
    "\n",
    "We take $d=4$ input variables, therefore we expect the numerical calculation to coincide with the theory when the maximal degree of the polynomial equals to $4$."
   ]
  },
  {
   "cell_type": "code",
   "execution_count": null,
   "metadata": {
    "slideshow": {
     "slide_type": "slide"
    }
   },
   "outputs": [],
   "source": [
    "import numpy as np\n",
    "import matplotlib.pyplot as plt\n",
    "%matplotlib inline\n",
    "from numba import jit\n",
    "from ipywidgets import interact, widgets, fixed\n",
    "import itertools\n",
    "from numpy.polynomial import Legendre\n",
    "from functools import reduce\n",
    "from pyDOE import lhs\n",
    "from itertools import combinations\n",
    "\n",
    "\n",
    "def indices_K(d, N, r=1.0):\n",
    "    \"\"\"\n",
    "    returns all vectors of length l with sum of indices in power p <= q^p, starting form 0\n",
    "    x^p + y^p <= N^p\n",
    "    Elements can repeat!\n",
    "    \"\"\"\n",
    "    qp = N**r\n",
    "    for cmb in itertools.product(range(N+1), repeat=d):\n",
    "        if sum(np.array(cmb)**r) <= qp:\n",
    "            yield cmb\n",
    "\n",
    "\n",
    "def indices_K_cut(d, N, r=1.0, maxn=None):\n",
    "    a = indices_K(d, N, r)\n",
    "    a = sorted(a, reverse=True)\n",
    "    a = [el for el, _ in itertools.groupby(a)]  # delete duplicates\n",
    "    a = sorted(a, key=lambda e: max(e))\n",
    "    a = sorted(a, key=lambda e: np.sum(np.array(e)**r))\n",
    "    if maxn is not None:\n",
    "        a = a[:maxn]\n",
    "    return a\n",
    "\n",
    "\n",
    "def p_legendre(x, n, interval=(0.0, 1.0), to_norm=True):\n",
    "    \"\"\"\n",
    "    Non-normed or normed Legendre poly.\n",
    "    x is from interval [0, 1] and then it is scaled\n",
    "    \"\"\"\n",
    "    xn = (interval[0] + interval[1] - 2.0*x)/(interval[0] - interval[1])\n",
    "    res = Legendre.basis(n)(xn)\n",
    "    if to_norm:\n",
    "        res /= np.sqrt(p_legendre_snorm(n, interval=interval))\n",
    "    return res\n",
    "\n",
    "\n",
    "def p_legendre_snorm(n, interval=(-1.0, 1.0)):\n",
    "    \"\"\"\n",
    "    RETURNS E[L_n L_n]\n",
    "    \"\"\"\n",
    "    return (interval[1] - interval[0])/(2.0*n + 1.0)\n",
    "\n",
    "\n",
    "def p_trvial(x, n):\n",
    "    return x**n\n",
    "\n",
    "\n",
    "def system_mat_multi(max_pow, x, poly=p_legendre, r=1.0):\n",
    "    \"\"\"\n",
    "    Multivariate system matrix based on given polys and points.\n",
    "    INPUT\n",
    "    max_pow -- maximum polynimial power\n",
    "    x -- points (nodes)\n",
    "    r -- parameter is hyperbolic truncation scheme\n",
    "\n",
    "    OUTPUT\n",
    "    A -- matrix\n",
    "    \"\"\"\n",
    "    N_x, d = x.shape\n",
    "    indices = indices_K_cut(d, max_pow, r)\n",
    "    A = np.empty((N_x, len(indices)))\n",
    "    for i, xp in enumerate(indices):\n",
    "        A[:, i] = np.prod([poly(x[:, j], xp[j]) for j in range(d)], axis=0)\n",
    "\n",
    "    return A\n",
    "\n",
    "\n",
    "def indices_L(indices, subscript):\n",
    "    indices = np.array(indices, copy=False)\n",
    "    subscript = np.array(subscript, copy=False)\n",
    "    all_idx = np.arange(indices.shape[1], dtype=int)\n",
    "    other_idx = np.setdiff1d(all_idx, subscript)\n",
    "\n",
    "    def filter_func(x):\n",
    "        return (x[subscript] != 0).all() and (x[other_idx] == 0).all()\n",
    "\n",
    "    return np.array([i for i, x in enumerate(indices) if filter_func(x)])\n",
    "\n",
    "\n",
    "def gPC(func, dim, max_pow, expand_coeff=2.0, poly=p_legendre, r=1.0):\n",
    "    \"\"\"\n",
    "    expand_coeff -- how many points to take\n",
    "    \"\"\"\n",
    "    indices = indices_K_cut(dim, max_pow, r)\n",
    "    N_x = int(round(len(indices)*expand_coeff))\n",
    "    X = lhs(dim, samples=N_x, criterion='c')\n",
    "    A = system_mat_multi(max_pow, X, poly=poly, r=r)\n",
    "    rhs = np.array([func(*x) for x in X])\n",
    "    return np.linalg.lstsq(A, rhs, rcond=-1)[0]\n",
    "\n",
    "\n",
    "def all_subsets(n):\n",
    "    res = []\n",
    "    take_from = tuple(np.arange(n, dtype=int))\n",
    "    for i in range(n):\n",
    "        res.extend(combinations(take_from, i))\n",
    "\n",
    "    res.append(take_from)\n",
    "    return res[1:]\n",
    "\n",
    "\n",
    "def Sobol_indices(indices, coeffs):\n",
    "    indices = np.array(indices, copy=False)\n",
    "    assert np.all(indices[0] == 0), 'indices ordering is wrong'\n",
    "    D = np.sum(coeffs[1:]**2)\n",
    "    subsets = all_subsets(indices.shape[1])\n",
    "    Ds = np.empty(len(subsets))\n",
    "    for i, s in enumerate(subsets):\n",
    "        Ds[i] = np.sum([coeffs[j]**2 for j in indices_L(indices, s)])\n",
    "\n",
    "    return Ds/D\n",
    "\n",
    "\n",
    "def Sobol_indx_many_powers(func, dim, powers, poly=p_legendre, expand_coeff=2.0):\n",
    "    res = []\n",
    "    for i, max_pow in enumerate(powers):\n",
    "        coeffs = gPC(func, dim=dim, max_pow=max_pow, poly=poly, expand_coeff=expand_coeff)\n",
    "        S = Sobol_indices(indices_K_cut(dim, max_pow), coeffs)\n",
    "        res.append(S)\n",
    "\n",
    "    return np.array(res)\n",
    "\n",
    "\n",
    "def str_subset(dim, idx_subset):\n",
    "    subset = all_subsets(dim)[idx_subset]\n",
    "    return ''.join([str(i+1) for i in subset])\n",
    "\n",
    "\n",
    "def plot_Sobol(func, dim, powers, S, idx_subset=0, poly=p_legendre, tru_Sobol=None, func_name=''):\n",
    "    # S = Sobol_indx_many_powers(func, dim, powers=powers, poly=poly)\n",
    "    plt.figure(figsize=(12, 7))\n",
    "    plt.plot(powers, S[:, idx_subset], label='Calculated indices')\n",
    "    if tru_Sobol is not None:\n",
    "        plt.plot(powers, [tru_Sobol[idx_subset]] *\n",
    "                 len(powers), label='True indices')\n",
    "    plt.legend()\n",
    "    plt.xlabel('Maximum power of polynomial')\n",
    "    str_S = '$S_{' + str_subset(dim, idx_subset) + '}$'\n",
    "    plt.ylabel(str_S)\n",
    "    plt.title('Sobol index ' + str_S + ' for function ' + func_name)\n",
    "\n",
    "\n",
    "to_check_norm = False\n",
    "if to_check_norm:\n",
    "    from scipy.integrate import quad\n",
    "    print(quad(lambda x: p_legendre(x, 5)*p_legendre(x, 5), -1, 1))\n",
    "\n",
    "to_check_gPC = False\n",
    "if to_check_gPC:\n",
    "    def func(x, y):\n",
    "        return x**3 + y**2 + x*y\n",
    "    print(gPC(func, 2, 5, poly=p_trvial))\n",
    "\n",
    "    def func(x, y):\n",
    "        return p_legendre(x, 3) + p_legendre(y, 2) + p_legendre(x, 1)*p_legendre(y, 1)\n",
    "    print(gPC(func, 2, 5, poly=p_legendre))"
   ]
  },
  {
   "cell_type": "code",
   "execution_count": null,
   "metadata": {
    "slideshow": {
     "slide_type": "slide"
    }
   },
   "outputs": [],
   "source": [
    "def linear_based_func(*x):\n",
    "    return reduce(np.multiply, [xi + 0.5 for xi in x])\n",
    "\n",
    "def true_linear_based_sobol_indices(dim):\n",
    "    Di = np.full(dim, 1.0/12.0)\n",
    "    subsets = all_subsets(dim)\n",
    "    Ds = np.empty(len(subsets))\n",
    "    for i, s in enumerate(subsets):\n",
    "        Ds[i] = np.prod(Di[list(s)])\n",
    "        \n",
    "    return Ds/Ds.sum()\n",
    "\n",
    "dim = 4\n",
    "powers = range(1, 10)\n",
    "S = Sobol_indx_many_powers(linear_based_func, dim, powers=powers)\n",
    "tru_S = true_linear_based_sobol_indices(dim)"
   ]
  },
  {
   "cell_type": "code",
   "execution_count": null,
   "metadata": {
    "slideshow": {
     "slide_type": "slide"
    }
   },
   "outputs": [],
   "source": [
    "opts = {r'S_' + str_subset(dim, i) + '' : i for i in range(10) }\n",
    "interact(lambda x : plot_Sobol(linear_based_func, dim, powers, S, idx_subset=x, tru_Sobol=tru_S, func_name='with linear monomials in 4D'),\n",
    "         x=widgets.RadioButtons(options=opts,description='Sobol\\' Index',orientation='horizontal'));"
   ]
  },
  {
   "cell_type": "markdown",
   "metadata": {
    "slideshow": {
     "slide_type": "slide"
    }
   },
   "source": [
    "Now let us consider a function consisting of the product of quadratic monomials.\n",
    "$$\\def\\mon#1{(3x^2_#1+1)}\n",
    "f=\\frac{\\mon1\\mon2\\cdots\\mon d}{2^d}.\n",
    "$$\n",
    "\n",
    "We also take $d=4$, but now the total degree of this polynomial is greater."
   ]
  },
  {
   "cell_type": "code",
   "execution_count": null,
   "metadata": {
    "slideshow": {
     "slide_type": "slide"
    }
   },
   "outputs": [],
   "source": [
    "def quad_based_func(*x):\n",
    "    return reduce(np.multiply, [1.5*xi*xi + 0.5 for xi in x])\n",
    "\n",
    "\n",
    "def true_quad_based_sobol_indices(dim):\n",
    "    Di = np.full(dim, 1.0/5.0)\n",
    "    subsets = all_subsets(dim)\n",
    "    Ds = np.empty(len(subsets))\n",
    "    for i, s in enumerate(subsets):\n",
    "        Ds[i] = np.prod(Di[list(s)])\n",
    "\n",
    "    return Ds/Ds.sum()\n",
    "\n",
    "\n",
    "dim = 4\n",
    "powers = range(1, 10)\n",
    "S = Sobol_indx_many_powers(quad_based_func, dim, powers=powers)\n",
    "tru_S = true_quad_based_sobol_indices(dim)"
   ]
  },
  {
   "cell_type": "code",
   "execution_count": null,
   "metadata": {
    "slideshow": {
     "slide_type": "slide"
    }
   },
   "outputs": [],
   "source": [
    "opts = {'S_' + str_subset(dim, i) + '': i for i in [0, 1, 4, 5, 9, 12, 14]}\n",
    "interact(lambda x: plot_Sobol(quad_based_func, dim, powers, S, idx_subset=x, tru_Sobol=tru_S, func_name='with quadratic monomials in 4D'),\n",
    "         x=widgets.RadioButtons(options=opts, description='Sobol\\' Index', orientation='horizontal'));"
   ]
  },
  {
   "cell_type": "markdown",
   "metadata": {
    "slideshow": {
     "slide_type": "slide"
    }
   },
   "source": [
    "Now we consider a more complicated example with Sobol' function\n",
    "\n",
    "\n",
    "We will consider two cases $d=2$ with $a=\\{0,9\\}$ and $d=3$  with $a=\\{0, 2, 9\\}$, but now  the maximum power on the plot will be grater in both cases than on the previous examples."
   ]
  },
  {
   "cell_type": "code",
   "execution_count": null,
   "metadata": {
    "slideshow": {
     "slide_type": "slide"
    }
   },
   "outputs": [],
   "source": [
    "def sobol_func_gen(al):\n",
    "    def sobol_func(*x):\n",
    "        return reduce(np.multiply, [phi_i(xi, a) for xi, a in zip(x, al)])\n",
    "    \n",
    "    return sobol_func\n",
    "\n",
    "def true_sobol_sobol_indices(a):\n",
    "    a = np.array(a)\n",
    "    Di = 1.0/(3.0*(1.0+a)**2)\n",
    "    subsets = all_subsets(len(Di))\n",
    "    Ds = np.empty(len(subsets))\n",
    "    for i, s in enumerate(subsets):\n",
    "        Ds[i] = np.prod(Di[list(s)])\n",
    "        \n",
    "    return Ds/Ds.sum()\n",
    "\n",
    "a = [0, 9]\n",
    "dim = len(a)\n",
    "s_func = sobol_func_gen(a)\n",
    "powers = [1, 2, 3, 4, 5, 7, 9, 12, 15, 20]\n",
    "S = Sobol_indx_many_powers(s_func, dim, powers=powers)\n",
    "tru_S = true_sobol_sobol_indices(a)"
   ]
  },
  {
   "cell_type": "code",
   "execution_count": null,
   "metadata": {
    "slideshow": {
     "slide_type": "slide"
    }
   },
   "outputs": [],
   "source": [
    "opts = {'S_' + str_subset(dim, i) + '' : i for i in range(3) }\n",
    "interact(lambda x : plot_Sobol(s_func, dim, powers, S, idx_subset=x, tru_Sobol=tru_S, func_name='Sobol in 2D'),\n",
    "         x=widgets.RadioButtons(options=opts,description='Sobol\\' Index',orientation='horizontal')\n",
    "        );"
   ]
  },
  {
   "cell_type": "code",
   "execution_count": null,
   "metadata": {
    "slideshow": {
     "slide_type": "slide"
    }
   },
   "outputs": [],
   "source": [
    "a = [0, 2, 9]\n",
    "dim = len(a)\n",
    "s_func = sobol_func_gen(a)\n",
    "powers = [1, 2, 3, 4, 5, 7, 9, 12, 15, 20]\n",
    "S = Sobol_indx_many_powers(s_func, dim, powers=powers)\n",
    "tru_S = true_sobol_sobol_indices(a)"
   ]
  },
  {
   "cell_type": "code",
   "execution_count": null,
   "metadata": {
    "slideshow": {
     "slide_type": "slide"
    }
   },
   "outputs": [],
   "source": [
    "opts = {'S_' + str_subset(dim, i) + '' : i for i in range(7) }\n",
    "interact(lambda x : plot_Sobol(s_func, dim, powers, S, idx_subset=x, tru_Sobol=tru_S, func_name='Sobol in 3D'),\n",
    "         x=widgets.RadioButtons(options=opts,description='Sobol\\' Index',orientation='horizontal')\n",
    "        );"
   ]
  },
  {
   "cell_type": "markdown",
   "metadata": {
    "slideshow": {
     "slide_type": "slide"
    }
   },
   "source": [
    "We see that some indices diverge with the growth of the maximum degree (This happens in most, but not at every run!) . This is due to rounding errors and insufficient information about the function —  we approximate the function by points, and do not seek for the best polynomial approximation.\n",
    "\n",
    "But let's take more points when solving for the coefficients of gPC expansion using the least-squares method.\n",
    "Now we take eight times as many points as monomials."
   ]
  },
  {
   "cell_type": "code",
   "execution_count": null,
   "metadata": {
    "slideshow": {
     "slide_type": "slide"
    }
   },
   "outputs": [],
   "source": [
    "a = [0, 2, 9]\n",
    "dim = len(a)\n",
    "s_func = sobol_func_gen(a)\n",
    "powers = [1, 2, 3, 4, 5, 7, 9, 12, 15, 20]\n",
    "S = Sobol_indx_many_powers(s_func, dim, powers=powers, expand_coeff=8)\n",
    "tru_S = true_sobol_sobol_indices(a)"
   ]
  },
  {
   "cell_type": "code",
   "execution_count": null,
   "metadata": {
    "slideshow": {
     "slide_type": "slide"
    }
   },
   "outputs": [],
   "source": [
    "opts = {'S_' + str_subset(dim, i) + '' : i for i in range(7) }\n",
    "interact(lambda x : plot_Sobol(s_func, dim, powers, S, idx_subset=x, tru_Sobol=tru_S, func_name='Sobol in 3D'),\n",
    "         x=widgets.RadioButtons(options=opts,description='Sobol\\' Index',orientation='horizontal'));"
   ]
  },
  {
   "cell_type": "markdown",
   "metadata": {
    "slideshow": {
     "slide_type": "slide"
    }
   },
   "source": [
    "Now we see that there is no discrepancy in the growth of the degree. The coincidence with the theoretical value is almost complete, we can conclude what input parameters affect more and which ones — less."
   ]
  },
  {
   "cell_type": "markdown",
   "metadata": {
    "slideshow": {
     "slide_type": "slide"
    }
   },
   "source": [
    "Let us consider the so-called Ishigami function\n",
    "$$\n",
    "f=\\sin x_1+a\\sin^2x_2+x_3^4\\sin x_1,\n",
    "$$\n",
    "which is widely used to test sensitivity methods.\n",
    "\n",
    "The indices for this function are known (see the [paper](https://www.researchgate.net/publication/222526449_Global_sensitivity_analysis_using_polynomial_chaos_expansion))\n",
    "$$\n",
    "D=\\frac{a^2}8+\\frac{b\\pi^4}5+\\frac{b^2\\pi^8}{18}+\\frac12,\n",
    "$$\n",
    "$$\n",
    "D_1=\\frac{b\\pi^4}5+\\frac{b^2\\pi^8}{50}+\\frac12,\n",
    "\\qquad\n",
    "D_2=\\frac{a^2}8,\n",
    "\\qquad\n",
    "D_{13}=\\frac{8b^2\\pi^8}{225},\n",
    "$$\n",
    "and the rest are zero.\n",
    "\n",
    "In this function, the input parameters are distributed uniformly on the interval $(-\\pi,\\,\\pi)$, so we rescale them."
   ]
  },
  {
   "cell_type": "code",
   "execution_count": null,
   "metadata": {
    "slideshow": {
     "slide_type": "slide"
    }
   },
   "outputs": [],
   "source": [
    "def ishigami_func_gen(a, b):\n",
    "    def scale(x):\n",
    "        return np.pi*(2.0*x-1.0)\n",
    "    def ishigami_func(x1, x2, x3):\n",
    "        x1, x2, x3 = scale(np.array([x1, x2, x3]))\n",
    "        return np.sin(x1) + a*(np.sin(x2)**2) + b*(x3**4)*np.sin(x1)\n",
    "\n",
    "    return ishigami_func\n",
    "\n",
    "\n",
    "def true_ishigami_sobol_indices(a, b):\n",
    "    Ds = np.zeros(7)\n",
    "    Ds[0] = b*(np.pi**4)*0.2 + b*b*(np.pi**8)*0.02 + 0.5\n",
    "    Ds[1] = a*a*0.125\n",
    "    Ds[4] = b*b*(np.pi**8)*8.0/225.0\n",
    "\n",
    "    return Ds/Ds.sum()"
   ]
  },
  {
   "cell_type": "code",
   "execution_count": null,
   "metadata": {
    "slideshow": {
     "slide_type": "slide"
    }
   },
   "outputs": [],
   "source": [
    "a, b = 7, 0.1\n",
    "dim = 3\n",
    "i_func = ishigami_func_gen(a, b)\n",
    "powers = [1, 2, 3, 4, 5, 7, 9, 12, 15]\n",
    "S = Sobol_indx_many_powers(i_func, dim, powers=powers)\n",
    "tru_I = true_ishigami_sobol_indices(a, b)"
   ]
  },
  {
   "cell_type": "code",
   "execution_count": null,
   "metadata": {
    "slideshow": {
     "slide_type": "slide"
    }
   },
   "outputs": [],
   "source": [
    "opts = {'S_' + str_subset(dim, i) + '': i for i in range(7)}\n",
    "interact(lambda x : plot_Sobol(i_func, dim, powers, S, idx_subset=x, tru_Sobol=tru_I, func_name='Ishigami'),\n",
    "         x=widgets.RadioButtons(options=opts,description='Sobol\\' Index',orientation='horizontal'));"
   ]
  }
 ],
 "metadata": {
  "celltoolbar": "Slideshow",
  "kernelspec": {
   "display_name": "Python 3",
   "language": "python",
   "name": "python3"
  },
  "language_info": {
   "codemirror_mode": {
    "name": "ipython",
    "version": 3
   },
   "file_extension": ".py",
   "mimetype": "text/x-python",
   "name": "python",
   "nbconvert_exporter": "python",
   "pygments_lexer": "ipython3",
   "version": "3.7.3"
  },
  "varInspector": {
   "cols": {
    "lenName": 16,
    "lenType": 16,
    "lenVar": 40
   },
   "kernels_config": {
    "python": {
     "delete_cmd_postfix": "",
     "delete_cmd_prefix": "del ",
     "library": "var_list.py",
     "varRefreshCmd": "print(var_dic_list())"
    },
    "r": {
     "delete_cmd_postfix": ") ",
     "delete_cmd_prefix": "rm(",
     "library": "var_list.r",
     "varRefreshCmd": "cat(var_dic_list()) "
    }
   },
   "types_to_exclude": [
    "module",
    "function",
    "builtin_function_or_method",
    "instance",
    "_Feature"
   ],
   "window_display": false
  }
 },
 "nbformat": 4,
 "nbformat_minor": 2
}
