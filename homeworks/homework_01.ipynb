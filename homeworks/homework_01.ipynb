{
 "cells": [
  {
   "cell_type": "code",
   "execution_count": 1,
   "metadata": {},
   "outputs": [],
   "source": [
    "import numpy as np\n",
    "from scipy import stats\n",
    "from scipy.special import erf\n",
    "import matplotlib.pyplot as plt\n",
    "%matplotlib inline\n",
    "\n",
    "from inverse_sampling import *"
   ]
  },
  {
   "cell_type": "markdown",
   "metadata": {},
   "source": [
    "# Homework 1 (80 pts)\n",
    "\n",
    "Problems have different cost.\n",
    "\n",
    "Write your answers in jupyter notebook format using $\\LaTeX$ capabilities **(strongly recommended)** (or just simple ```tex``` manuscript, **less recommended**), or write it down on the paper, scan it and submit **(not recommended)**. A python code should be implemented in jupyter notebook format."
   ]
  },
  {
   "cell_type": "markdown",
   "metadata": {},
   "source": [
    "## Problem 1 (14 pts)\n",
    "\n",
    "Let $\\xi$ be some random variable with CDF $F(x)$.\n",
    "-  **(10 pts)**. In which cases the random variable\n",
    "$$\n",
    "\\eta =F(\\xi)\n",
    "$$\n",
    "has uniform distribution ($\\eta\\sim \\mathcal U(0,1)$)?\n",
    "Prove your answer."
   ]
  },
  {
   "cell_type": "markdown",
   "metadata": {},
   "source": [
    "---\n",
    "\n",
    "Consider $F$ which is strictly increasing and continuous, then $F^{-1}$ exists. \n",
    "$$\n",
    " x \\in [0, 1] \\qquad F_\\eta = \\Pr\\{\\underbrace{F_{\\xi}(\\xi)}_{\\eta} < x\\} = \\Pr\\{\\xi < F_{\\xi}^{-1}(x)\\} = F_{\\xi}(F_{\\xi}^{-1}(x)) = x\n",
    "$$\n",
    "\n",
    "Therefore, $F_\\eta$ is uniform\n",
    "\n",
    "We can weaken the requirements to $F$ by considering the following generalization of the inverse:\n",
    "$F_{\\xi}^{-1, +}(t) := \\inf\\{x: F_{\\xi}(x) \\gt t\\}, \\;\\; t \\in [0, 1]$. So, now we can consider continous (not-strictly) monotonous functions. This way, all points from the unit interval will be mapped by $F^{-1,+}$ to the subset (union of segments) of the $F$'s domain, where $F$ is increasing. And these segments are mapped by $F$ (in the multistatement above) to the unit interval again.\n",
    "\n",
    "$$\n",
    "    F(F^{-1,+}(x)) = x\\\\\n",
    "$$\n",
    "\n",
    "On the segments where $F$ is increasing:\n",
    "$$\n",
    "    F^{-1,+}(x) = \\inf\\{t: F(t) \\to x\\} = \\lim_{F(t)->x+0} t = F^{-1}(x)\n",
    "$$\n",
    "\n",
    "Now, let $F = F(t_0) = \\mathrm{const}$ in $[t_0, t_1]$, and $x = F(t_0)$\n",
    "\n",
    "$$\n",
    "    F^{-1,+}(x) = \\lim_{F(t) \\to F(t_0)+0} t = t_1\n",
    "$$"
   ]
  },
  {
   "cell_type": "markdown",
   "metadata": {},
   "source": [
    "---\n",
    "-  **(4 pts)**. Prove that in all other cases the statment does not hold (or that there are not other cases)."
   ]
  },
  {
   "cell_type": "markdown",
   "metadata": {},
   "source": [
    "---\n",
    "\n",
    "Consider a discontinuous (though strictly monotonous) $F$, that has a jump of the size $\\Delta$ at some point $x_0$. This means that no points can be mapped to the interval $[F(x_0), F(x_0) + \\Delta)$. Since F is a CDF, $\\mathrm{Im}(F) \\subset [0, 1]$.  But $\\mathrm{Im}(F) \\neq [0, 1]$ because of the gap of width $\\Delta$. Thus, $\\eta$ can't have the uniform distribution in this case.  "
   ]
  },
  {
   "cell_type": "code",
   "execution_count": null,
   "metadata": {},
   "outputs": [],
   "source": []
  },
  {
   "cell_type": "markdown",
   "metadata": {},
   "source": [
    "## Problem 2 (23 pts)\n",
    "\n",
    "Random variable $\\eta$ has the following discrete distribution\n",
    "\n",
    "\n",
    "|r.v. $\\eta$|1|2|3|\n",
    "|----|---|----|---|\n",
    "|probability $p$|0.2|0.3|0.5|\n",
    "\n",
    "Consider the random variable $\\xi$ which is generated as follows.\n",
    "\n",
    "If the value of $\\eta$ equals $1$, then $\\xi$ is sampled uniformly from the interval $(-1,0)$.<br>\n",
    "If the value of $\\eta$ equals $2$, then $\\xi$ is sampled uniformly from the interval $(1,3)$.<br>\n",
    "If the value of $\\eta$ equals $3$, then $\\xi$ is taken as $2$ or $4$ with equal probability.\n",
    "\n",
    "* **(5 pts)**. Plot the CDF of the random variable $\\xi$."
   ]
  },
  {
   "cell_type": "markdown",
   "metadata": {},
   "source": [
    "Apply formula of total probability:\n",
    "$$\n",
    "    p(\\xi) = \\sum_{\\eta \\in \\mathcal{H}} p(\\xi|\\eta)P(\\eta)\n",
    "$$\n",
    "\n",
    "$H = \\{1, 2, 3\\}$  \n",
    "$P(\\eta=1) = 0.2$ and so on (using the table)  \n",
    "$p(\\xi|\\eta=1) = \\frac{1}{0-1} \\cdot I(\\xi \\in [-1, 0])\\,,\\\\\n",
    " p(\\xi|\\eta=2) = \\frac{1}{3-1} \\cdot I(\\xi \\in [1, 3])\\,,\\\\\n",
    " p(\\xi|\\eta=3) = 1/2 \\cdot \\delta(\\xi-2) + 1/2 \\cdot \\delta(\\xi-4)$  \n",
    "Here $I$ and $\\delta$ are indicator and Dirac delta functions, respectively.\n",
    "\n",
    "In all the other points, $p(\\xi) = 0$  \n",
    "Thus, integrating over $(-\\infty, +\\infty)$, we come to the plot below"
   ]
  },
  {
   "cell_type": "code",
   "execution_count": 161,
   "metadata": {},
   "outputs": [
    {
     "data": {
      "image/png": "[encoded data removed]",
      "text/plain": [
       "<Figure size 432x288 with 1 Axes>"
      ]
     },
     "metadata": {
      "needs_background": "light"
     },
     "output_type": "display_data"
    }
   ],
   "source": [
    "line1 = np.rec.array([(-2, 0), (-1, 0), (0, .2), (1, .2), (2, .35)])\n",
    "line2 = np.rec.array([(2, .6), (3, .75), (4, 0.75)])\n",
    "line3 = np.rec.array([(4, 1.), (6, 1.)])\n",
    "\n",
    "plt.plot(line1.f0, line1.f1, 'b');\n",
    "plt.scatter(2, .35, s=80, facecolors='none', edgecolors='b');\n",
    "plt.plot(line2.f0, line2.f1, 'b');\n",
    "plt.scatter(4, .75, s=80, facecolors='none', edgecolors='b');\n",
    "plt.plot(line3.f0, line3.f1, 'b');\n",
    "\n",
    "plt.xlabel('$x$', size=16);\n",
    "plt.ylabel('$F(x)$', size=16);\n",
    "plt.title('CDF');"
   ]
  },
  {
   "cell_type": "markdown",
   "metadata": {},
   "source": [
    "---"
   ]
  },
  {
   "cell_type": "markdown",
   "metadata": {},
   "source": [
    "* **(8 pts)**. Write a Python function that returns an inverse value of CDF."
   ]
  },
  {
   "cell_type": "code",
   "execution_count": 2,
   "metadata": {},
   "outputs": [],
   "source": [
    "def dumb_cdf(x):\n",
    "    if -1 <= x < 0:\n",
    "        return .2*x + .2\n",
    "    elif 0 <= x < 1:\n",
    "        return .2\n",
    "    elif 1 <= x < 2:\n",
    "        return .15*x + .05\n",
    "    elif 2 <= x < 3:\n",
    "        return .15*x + .3\n",
    "    elif 3 <= x < 4:\n",
    "        return .75\n",
    "    elif x >= 4:\n",
    "        return 1.\n",
    "    else:\n",
    "        return 0.\n",
    "    \n",
    "dumb_cdf = np.vectorize(dumb_cdf)"
   ]
  },
  {
   "cell_type": "code",
   "execution_count": 21,
   "metadata": {},
   "outputs": [],
   "source": [
    "def less_dumb_cdf(x):\n",
    "    out = np.zeros_like(x) \n",
    "    cond = np.logical_and(x>=-1, x<0)\n",
    "    out[cond] = .2*x[cond] + .2\n",
    "    cond = np.logical_and(x>=0, x<1)\n",
    "    out[cond] = .2\n",
    "    cond = np.logical_and(x>=1, x<2)\n",
    "    out[cond] = .15*x[cond] + .05\n",
    "    cond = np.logical_and(x>=2, x<3)\n",
    "    out[cond] = .15*x[cond] + .3\n",
    "    cond = np.logical_and(x>=3, x<4)\n",
    "    out[cond] = .75\n",
    "    cond = x>=4\n",
    "    out[cond] = 1.\n",
    "    \n",
    "    return out"
   ]
  },
  {
   "cell_type": "code",
   "execution_count": 19,
   "metadata": {},
   "outputs": [
    {
     "data": {
      "image/png": "[encoded data removed]",
      "text/plain": [
       "<Figure size 432x288 with 1 Axes>"
      ]
     },
     "metadata": {
      "needs_background": "light"
     },
     "output_type": "display_data"
    }
   ],
   "source": [
    "x = np.linspace(-1, 4, 1000)\n",
    "plt.plot(x, dumb_cdf(x));"
   ]
  },
  {
   "cell_type": "code",
   "execution_count": 29,
   "metadata": {},
   "outputs": [
    {
     "name": "stdout",
     "output_type": "stream",
     "text": [
      "4.38 ms ± 244 µs per loop (mean ± std. dev. of 7 runs, 100 loops each)\n",
      "138 µs ± 5.15 µs per loop (mean ± std. dev. of 7 runs, 10000 loops each)\n"
     ]
    },
    {
     "data": {
      "text/plain": [
       "31.84444614945916"
      ]
     },
     "execution_count": 29,
     "metadata": {},
     "output_type": "execute_result"
    }
   ],
   "source": [
    "x = np.linspace(-1, 4, int(1e4))\n",
    "t1 = %timeit -o dumb_cdf(x);\n",
    "t2 = %timeit -o less_dumb_cdf(x);\n",
    "t1.average / t2.average"
   ]
  },
  {
   "cell_type": "code",
   "execution_count": 20,
   "metadata": {},
   "outputs": [
    {
     "data": {
      "image/png": "[encoded data removed]",
      "text/plain": [
       "<Figure size 432x288 with 1 Axes>"
      ]
     },
     "metadata": {
      "needs_background": "light"
     },
     "output_type": "display_data"
    }
   ],
   "source": [
    "icdf = inverse_pwCDF(dumb_cdf, 1000, (-1, 4), CDF=True)\n",
    "x = np.linspace(0, 1, 100)\n",
    "plt.plot(x, icdf(x));"
   ]
  },
  {
   "cell_type": "markdown",
   "metadata": {},
   "source": [
    "---"
   ]
  },
  {
   "cell_type": "markdown",
   "metadata": {},
   "source": [
    "* **(10 pts)**. Write python function to generate samples of $\\xi$ using *inverse sampling method*."
   ]
  },
  {
   "cell_type": "code",
   "execution_count": 30,
   "metadata": {},
   "outputs": [],
   "source": [
    "def gen_xi(n_samples, m=1000):\n",
    "    icdf = inverse_pwCDF(less_dumb_cdf, m, (-1, 4), CDF=True)\n",
    "    z = np.random.uniform(size=n_samples)\n",
    "    return icdf(z)"
   ]
  },
  {
   "cell_type": "code",
   "execution_count": 34,
   "metadata": {},
   "outputs": [
    {
     "data": {
      "image/png": "[encoded data removed]",
      "text/plain": [
       "<Figure size 432x288 with 1 Axes>"
      ]
     },
     "metadata": {
      "needs_background": "light"
     },
     "output_type": "display_data"
    }
   ],
   "source": [
    "y = gen_xi(int(1e6))\n",
    "plt.hist(y, bins='auto', density=True);"
   ]
  },
  {
   "cell_type": "markdown",
   "metadata": {},
   "source": [
    "**As one can see, we've got the pdf of the target distribution**"
   ]
  },
  {
   "cell_type": "code",
   "execution_count": null,
   "metadata": {},
   "outputs": [],
   "source": []
  },
  {
   "cell_type": "markdown",
   "metadata": {},
   "source": [
    "## Problem 3 (18 pts)\n",
    "\n",
    "We can use the results of Problem 1 to check the distribution of the samples. Namely, if the set $\\{x_1,\\,x_2,\\,\\ldots,\\,x_n\\}$ is sampled from a general population with CDF $F(x)$, then $F(x_1),\\,F(x_2),\\,\\ldots,\\,F(x_n)$ are sampled uniformly and we can check this using empirical histogram.\n",
    "Consider the example with normal distribution $\\mathcal N(1, 3)$"
   ]
  },
  {
   "cell_type": "code",
   "execution_count": 2,
   "metadata": {},
   "outputs": [
    {
     "data": {
      "image/png": "[encoded data removed]",
      "text/plain": [
       "<Figure size 1080x432 with 2 Axes>"
      ]
     },
     "metadata": {
      "needs_background": "light"
     },
     "output_type": "display_data"
    }
   ],
   "source": [
    "n = int(1e5)\n",
    "samples = stats.norm.rvs(loc=1, scale=3, size=n)\n",
    "samples_inv = stats.norm.cdf(samples, loc=1, scale=3)\n",
    "\n",
    "_, (ax1, ax2) = plt.subplots(1, 2, figsize=(15,6))\n",
    "ax1.hist(samples    , bins='auto', density=True);\n",
    "ax1.set_title('Sample')\n",
    "ax2.hist(samples_inv, bins='auto', density=True);\n",
    "ax2.set_title('CDF transform applied to the sample');"
   ]
  },
  {
   "cell_type": "markdown",
   "metadata": {},
   "source": [
    "Now, consider a set of i.i.d. random variables $\\{\\xi_i\\}$, and a random variable $\\eta$ which is equal to an average over $M$ variables $\\{\\xi_i\\}$\n",
    "$$\n",
    "\\eta = \\frac1M\\sum_{i=1}^M\\xi_i.\n",
    "$$\n",
    "According to [Central limit theorem](https://en.wikipedia.org/wiki/Central_limit_theorem),\n",
    "the random variable $\\eta$ converges in distribution to a normal (recall the conditions of the corresponding statement). \n",
    "\n",
    "Make a sample of the variable $\\eta$ of a size $10^4$–$10^6$ for  different values of $M$, and show that the distribution of $\\eta$ is close to a normal with use of the method described above, for the following random variables $\\{\\xi_i\\}$\n",
    "\n",
    "**Don't see the value to build hists for different M, except the last point**  \n",
    "**For the second distribution, one can change M manually if needed (it computes in seconds)**  \n",
    "*(For the first one, it takes to much time to change anything)*\n",
    "\n",
    "---\n",
    "* **(6 pts)**. Bernoulli distribution $\\mathbb P(\\xi=0)=\\frac13$, $\\mathbb P(\\xi=1)=\\frac23$."
   ]
  },
  {
   "cell_type": "code",
   "execution_count": 9,
   "metadata": {},
   "outputs": [
    {
     "name": "stdout",
     "output_type": "stream",
     "text": [
      "CPU times: user 3min 37s, sys: 321 ms, total: 3min 37s\n",
      "Wall time: 3min 37s\n"
     ]
    },
    {
     "data": {
      "text/plain": [
       "Text(0.5, 1.0, 'CDF transform applied to the sample')"
      ]
     },
     "execution_count": 9,
     "metadata": {},
     "output_type": "execute_result"
    },
    {
     "data": {
      "image/png": "[encoded data removed]",
      "text/plain": [
       "<Figure size 1080x432 with 2 Axes>"
      ]
     },
     "metadata": {
      "needs_background": "light"
     },
     "output_type": "display_data"
    }
   ],
   "source": [
    "%%time\n",
    "p = 2/3\n",
    "M = 100000\n",
    "\n",
    "n_samples = int(1e5)\n",
    "samples = np.zeros(n_samples)\n",
    "# to escape problems with memory (when M ~ 10^5) and make \\xi_i less correlated\n",
    "# I use for-loop and generate sequences with different random state\n",
    "for i in range(M):\n",
    "    samples += stats.bernoulli.rvs(p, size=n_samples, random_state=i)\n",
    "samples /= M\n",
    "\n",
    "f_samples = stats.norm.cdf(samples, loc=p, scale=(p*(1-p)/M)**.5)\n",
    "\n",
    "_, (ax1, ax2) = plt.subplots(1, 2, figsize=(15,6))\n",
    "ax1.hist(samples, bins='auto', density=True);\n",
    "ax1.set_title('Sample')\n",
    "ax2.hist(f_samples, bins='auto', density=True);\n",
    "ax2.set_title('CDF transform applied to the sample');"
   ]
  },
  {
   "cell_type": "markdown",
   "metadata": {},
   "source": [
    "---"
   ]
  },
  {
   "cell_type": "markdown",
   "metadata": {},
   "source": [
    "* **(6 pts)**. Distribution with CDF $F(x)=\\frac12\\bigl(1+\\text{Erf}(\\ln(x))\\bigr)$ for $x>0$ and  $F(x)=0$ otherwise, where $\\text{Erf}(x):=\\frac2{\\sqrt\\pi}\\int_0^x\\exp(-\\tau^2)\\,d\\tau$ is the [Error function](https://en.wikipedia.org/wiki/Error_function)."
   ]
  },
  {
   "cell_type": "markdown",
   "metadata": {},
   "source": [
    "---"
   ]
  },
  {
   "cell_type": "code",
   "execution_count": 10,
   "metadata": {},
   "outputs": [],
   "source": [
    "class CustomDistribution1(stats.rv_continuous):\n",
    "    def _cdf(self, x):\n",
    "        return np.where(x>0, .5*(1+erf(np.log(np.abs(x)))), 0.)\n",
    "\n",
    "F = CustomDistribution1()\n",
    "# This is a very slow way of solving this task (for M=50 it takes ~10-13 min)\n",
    "\n",
    "# M = 50\n",
    "# n_samples = int(1e4)\n",
    "# samples = np.zeros(n_samples)\n",
    "# for i in range(M):\n",
    "#     samples += F.rvs(size=n_samples, random_state=i)\n",
    "# samples /= M\n",
    "\n",
    "# f_samples = stats.norm.cdf(samples, loc=np.e**.25, scale=((np.e-np.e**.5)/M)**.5)"
   ]
  },
  {
   "cell_type": "markdown",
   "metadata": {},
   "source": [
    "$$\n",
    "    p(x) = F'(x) = \\frac{1}{x\\sqrt{\\pi}}\\exp(-\\ln^2 x), \\quad x \\gt 0\\\\\n",
    "$$\n",
    "Let $X \\sim p$\n",
    "$$\n",
    "    \\mathbb{E}_p[X] = \\int_0^{\\infty}\\frac{x}{x\\sqrt{\\pi}}\\exp(-\\ln^2 x)dx = [y = \\ln x] = \\frac{1}{\\sqrt{\\pi}}\\int_{-\\infty}^{+\\infty}e^{y}e^{-y^2}dy = \\frac{e^{1/4}}{\\sqrt{\\pi}}\\int_{-\\infty}^{+\\infty}e^{-(y-1/2)^2}dy = e^{1/4} \\frac{\\sqrt{\\pi}}{\\sqrt{\\pi}} = e^{1/4}\n",
    "$$\n",
    "\n",
    "$$\n",
    "    \\mathrm{Var}_p[X] = \\frac{1}{\\sqrt{\\pi}}\\int_0^{\\infty}\\!x\\exp(-\\ln^2 x)dx \\;\\,-\\,  e^{1/2}\n",
    "$$\n",
    "\n",
    "After substitution, consider just the integral\n",
    "$$\n",
    "    \\int_{-\\infty}^{+\\infty}e^{2y}e^{-y^2}dy = e\\int_{-\\infty}^{+\\infty}e^{-(y-1)^2}dy = e\\sqrt{\\pi}\n",
    "$$\n",
    "\n",
    "Thus,\n",
    "$$\n",
    "    \\mathrm{Var}_p[X] = e - e^{1/2}\n",
    "$$"
   ]
  },
  {
   "cell_type": "code",
   "execution_count": 13,
   "metadata": {
    "scrolled": false
   },
   "outputs": [
    {
     "name": "stdout",
     "output_type": "stream",
     "text": [
      "CPU times: user 9.04 s, sys: 0 ns, total: 9.04 s\n",
      "Wall time: 9.05 s\n"
     ]
    },
    {
     "data": {
      "text/plain": [
       "Text(0.5, 1.0, 'CDF transform applied to the sample')"
      ]
     },
     "execution_count": 13,
     "metadata": {},
     "output_type": "execute_result"
    },
    {
     "data": {
      "image/png": "[encoded data removed]",
      "text/plain": [
       "<Figure size 1080x432 with 2 Axes>"
      ]
     },
     "metadata": {
      "needs_background": "light"
     },
     "output_type": "display_data"
    }
   ],
   "source": [
    "%%time\n",
    "def custom_cdf(x):\n",
    "    eps = 1e-12\n",
    "    out = np.zeros_like(x)\n",
    "    out[x>eps] = .5*(1+erf(np.log(x[x>eps])))\n",
    "    return out\n",
    "\n",
    "M = int(1e5) \n",
    "n_samples = int(1e4)\n",
    "samples = np.zeros(n_samples)\n",
    "for i in range(M):\n",
    "    z = np.random.uniform(size=n_samples)\n",
    "    ICDF = inverse_pwCDF(custom_cdf, 1000, (0, 40), CDF=True)\n",
    "    samples += ICDF(z)\n",
    "samples /= M\n",
    "    \n",
    "\n",
    "f_samples = stats.norm.cdf(samples, loc=np.e**.25, scale=((np.e-np.e**.5)/M)**.5)\n",
    "\n",
    "_, (ax1, ax2) = plt.subplots(1, 2, figsize=(15,6))\n",
    "ax1.hist(samples, bins='auto', density=True);\n",
    "ax1.set_title('Sample')\n",
    "ax2.hist(f_samples, bins='auto', density=True);\n",
    "ax2.set_title('CDF transform applied to the sample');"
   ]
  },
  {
   "cell_type": "markdown",
   "metadata": {},
   "source": [
    "---"
   ]
  },
  {
   "cell_type": "markdown",
   "metadata": {},
   "source": [
    "* **(6 pts)**. Distribution with CDF $F(x)=1-\\frac1{x^2}$ for $x>1$ and $F(x)=0$ otherwise."
   ]
  },
  {
   "cell_type": "markdown",
   "metadata": {},
   "source": [
    "---"
   ]
  },
  {
   "cell_type": "markdown",
   "metadata": {},
   "source": [
    "According to generalized CLT, mean of samples generated from Pareto distribution with $\\alpha = 2$ should converge to gaussian distribution despite the infinite variance of the random variable"
   ]
  },
  {
   "cell_type": "code",
   "execution_count": 11,
   "metadata": {},
   "outputs": [],
   "source": [
    "class CustomDistribution2(stats.rv_continuous):\n",
    "    def _cdf(self, x):\n",
    "        return np.where(x>1, 1 - 1./x**2, 0.)\n",
    "\n",
    "F = CustomDistribution2()\n",
    "# This is a very slow way of solving this task (for M=50 it takes ~10-13 min)\n",
    "\n",
    "# M = 50\n",
    "# n_samples = int(1e4)\n",
    "# samples = np.zeros(n_samples)\n",
    "# for i in range(M):\n",
    "#     samples += F.rvs(size=n_samples, random_state=i)\n",
    "# samples /= M\n",
    "\n",
    "# f_samples = stats.norm.cdf(samples, loc=2, scale=samples.std())"
   ]
  },
  {
   "cell_type": "markdown",
   "metadata": {},
   "source": [
    "$$\n",
    "    p(x) = F'(x) = \\frac{2}{x^3}, \\quad x \\gt 1\\\\\n",
    "    \\mathbb{E}_p[X] = \\int_1^\\infty \\frac{2}{x^2}dx = -\\frac{2}{x}\\;\\bigg\\rvert_1^\\infty = 2\\\\\n",
    "    \\mathrm{Var}_p[X] = \\int_1^{\\infty} \\frac{2}{x}dx - 4 = \\infty\n",
    "$$\n"
   ]
  },
  {
   "cell_type": "code",
   "execution_count": 44,
   "metadata": {},
   "outputs": [
    {
     "name": "stdout",
     "output_type": "stream",
     "text": [
      "CPU times: user 57.2 s, sys: 43.5 ms, total: 57.2 s\n",
      "Wall time: 57.2 s\n"
     ]
    },
    {
     "data": {
      "text/plain": [
       "<matplotlib.collections.PathCollection at 0x7f8bc7945828>"
      ]
     },
     "execution_count": 44,
     "metadata": {},
     "output_type": "execute_result"
    },
    {
     "data": {
      "image/png": "[encoded data removed]",
      "text/plain": [
       "<Figure size 1080x432 with 2 Axes>"
      ]
     },
     "metadata": {
      "needs_background": "light"
     },
     "output_type": "display_data"
    }
   ],
   "source": [
    "%%time\n",
    "def custom_cdf(x):\n",
    "    eps = 1e-12\n",
    "    out = np.zeros_like(x)\n",
    "    out[x>1+eps] = 1 - 1./x[x>1+eps]**2\n",
    "    return out\n",
    "\n",
    "M = int(1e4)\n",
    "n_samples = int(1e4)\n",
    "_, (ax1, ax2) = plt.subplots(1, 2, figsize=(15,6))\n",
    "for m in map(int, [50, 100, 1e3, 1e4, 1e5]):\n",
    "    samples = np.zeros(n_samples)\n",
    "    for i in range(M):\n",
    "        z = np.random.uniform(size=n_samples)\n",
    "        ICDF = inverse_pwCDF(custom_cdf, 1000, (1, 40), CDF=True)\n",
    "        samples += ICDF(z)\n",
    "    samples /= M\n",
    "\n",
    "    f_samples = stats.norm.cdf(samples, loc=2, scale=samples.std())\n",
    "\n",
    "    ax1.hist(samples, bins=100, density=True, alpha=.5);\n",
    "    ax1.set_title('Sample');\n",
    "    ax2.hist(f_samples, bins=100, density=True, alpha=.5);\n",
    "    ax2.set_title('CDF transform applied to the sample');\n",
    "ax2.scatter(1, 0, s=200, facecolors='none', edgecolors='r')"
   ]
  },
  {
   "cell_type": "markdown",
   "metadata": {},
   "source": [
    "**Whatever the interval [$(1, 40)$ or $(1, 100)$] you take, it will be always a small bump in the bottom-right (red circle) or somewhere else due to infinite variance**"
   ]
  },
  {
   "cell_type": "code",
   "execution_count": null,
   "metadata": {},
   "outputs": [],
   "source": []
  },
  {
   "cell_type": "markdown",
   "metadata": {},
   "source": [
    "## Problem 4 (25 pts)\n",
    "\n",
    "This problem is a part of *density estimation* problem.\n",
    "We have a sample with unknown distribution and want to sample more.\n",
    "\n",
    "There are several ways to solve this problem.\n",
    "One of the way to sample is to approximate probability distribution by the histogram of the given sample with a fixed number of bins $n$.\n",
    "\n",
    "The samples for this task are in the file ```hw_01.data.npz```"
   ]
  },
  {
   "cell_type": "code",
   "execution_count": 51,
   "metadata": {},
   "outputs": [
    {
     "data": {
      "image/png": "[encoded data removed]",
      "text/plain": [
       "<Figure size 432x288 with 1 Axes>"
      ]
     },
     "metadata": {
      "needs_background": "light"
     },
     "output_type": "display_data"
    }
   ],
   "source": [
    "samples = np.load('hw_01.data.npz')['samples']\n",
    "plt.hist(samples, bins=30, density=True);\n",
    "plt.xlabel('$x$');\n",
    "plt.ylabel('empirical probability');"
   ]
  },
  {
   "cell_type": "code",
   "execution_count": 98,
   "metadata": {},
   "outputs": [],
   "source": [
    "m = 200\n",
    "n = 10000\n",
    "interval = samples.min(), samples.max()\n",
    "z = np.sort(np.random.uniform(0, 1, n))"
   ]
  },
  {
   "cell_type": "markdown",
   "metadata": {},
   "source": [
    "* **(10 pts)**. So, the first task is to write a Python function that sample random variable with the piecewise constant probability density function shown on the plot.\n",
    "Check the result by building empirical histogram for the sample for a different number of bins $n$.\n",
    "\n",
    "*Hint: use the Python code from the Lecture 2*"
   ]
  },
  {
   "cell_type": "code",
   "execution_count": 101,
   "metadata": {},
   "outputs": [
    {
     "data": {
      "image/png": "[encoded data removed]",
      "text/plain": [
       "<Figure size 432x288 with 1 Axes>"
      ]
     },
     "metadata": {
      "needs_background": "light"
     },
     "output_type": "display_data"
    }
   ],
   "source": [
    "cdf = pwCDF(samples, m, interval, samples=True)\n",
    "icdf = inverse_pwCDF(cdf, m, interval, CDF=True)\n",
    "y = icdf(z)\n",
    "plt.hist(y, bins=100, density=True);"
   ]
  },
  {
   "cell_type": "markdown",
   "metadata": {},
   "source": [
    "The second way of solving the density estimation problem is to use [empirical distribution function](https://en.wikipedia.org/wiki/Empirical_distribution_function) $\\hat{F}$. This function is defined as\n",
    "$$\n",
    "\\hat F(x):=\\frac{\\#\\{x_i\\colon x_i\\leq x\\}}N,\n",
    "$$\n",
    "where $\\{x_i\\}_1^N$ are the sample set, $N$ is the total number of the elements in it.\n",
    "\n",
    "* **(10 pts)**. Write a python function to sample a random variable which has the CDF $\\hat F$ build on the sample from the file ```hw_01.data.npz```. Check the result by building empirical histogram."
   ]
  },
  {
   "cell_type": "code",
   "execution_count": 107,
   "metadata": {},
   "outputs": [],
   "source": [
    "def pw_cdf(samples):\n",
    "    sorted_samples = np.sort(samples)\n",
    "    N = len(sorted_samples)\n",
    "    def pdf(x):\n",
    "        return np.searchsorted(sorted_samples, x) / N\n",
    "    return cdf"
   ]
  },
  {
   "cell_type": "code",
   "execution_count": 108,
   "metadata": {},
   "outputs": [
    {
     "data": {
      "image/png": "[encoded data removed]",
      "text/plain": [
       "<Figure size 432x288 with 1 Axes>"
      ]
     },
     "metadata": {
      "needs_background": "light"
     },
     "output_type": "display_data"
    }
   ],
   "source": [
    "cdf = pw_cdf(samples)\n",
    "icdf = inverse_pwCDF(cdf, m, interval, CDF=True)\n",
    "plt.hist(icdf(z), bins=100);"
   ]
  },
  {
   "cell_type": "markdown",
   "metadata": {},
   "source": [
    "---"
   ]
  },
  {
   "cell_type": "markdown",
   "metadata": {},
   "source": [
    "* **(5 pts)**. Explain the difference between these two ways of density estimation.<br> \n",
    "**NB:** (solution to this subproblem is counted only if two previous subproblems are done)."
   ]
  },
  {
   "cell_type": "markdown",
   "metadata": {},
   "source": [
    "Not quite got it.\n",
    "But I'd try to say that in my implementation of the first point the cdf, that is built by the pdf, is piecewise linear.  \n",
    "In the second point, the cdf, built directly from the sample, is piecewise constant. In the sense of convergence to the target distribution they should also behave differently"
   ]
  },
  {
   "cell_type": "code",
   "execution_count": null,
   "metadata": {},
   "outputs": [],
   "source": []
  }
 ],
 "metadata": {
  "kernelspec": {
   "display_name": "Python 3",
   "language": "python",
   "name": "python3"
  },
  "language_info": {
   "codemirror_mode": {
    "name": "ipython",
    "version": 3
   },
   "file_extension": ".py",
   "mimetype": "text/x-python",
   "name": "python",
   "nbconvert_exporter": "python",
   "pygments_lexer": "ipython3",
   "version": "3.7.3"
  }
 },
 "nbformat": 4,
 "nbformat_minor": 2
}
